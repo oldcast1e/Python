{
 "cells": [
  {
   "cell_type": "code",
   "execution_count": 2,
   "metadata": {},
   "outputs": [],
   "source": [
    "import serial\n",
    "import random\n",
    "import numpy as np\n",
    "import matplotlib.pyplot as plt\n",
    "import time"
   ]
  },
  {
   "cell_type": "code",
   "execution_count": 19,
   "metadata": {},
   "outputs": [],
   "source": [
    "serial.Serial(\"/dev/tty.usbserial-1130\",9600)\n",
    "ard = serial.Serial(\"/dev/tty.usbserial-1130\",9600)"
   ]
  },
  {
   "cell_type": "code",
   "execution_count": 7,
   "metadata": {},
   "outputs": [
    {
     "name": "stdout",
     "output_type": "stream",
     "text": [
      "[ 73  35  50  41 131 133  11 124  26 171  41 157  93  61  72 145  75 118\n",
      "  63 148  69]\n"
     ]
    }
   ],
   "source": [
    "random_array = np.random.randint(1, 180, 21)\n",
    "print(random_array)"
   ]
  },
  {
   "cell_type": "code",
   "execution_count": 18,
   "metadata": {},
   "outputs": [
    {
     "name": "stdout",
     "output_type": "stream",
     "text": [
      "Index\tValue\n",
      "0\t(73)\n",
      "1\t(35)\n",
      "2\t(50)\n",
      "3\t(41)\n",
      "4\t(131)\n",
      "5\t(133)\n",
      "6\t(11)\n",
      "7\t(124)\n",
      "8\t(26)\n",
      "9\t(171)\n",
      "10\t(41)\n",
      "11\t(157)\n",
      "12\t(93)\n",
      "13\t(61)\n",
      "14\t(72)\n",
      "15\t(145)\n",
      "16\t(75)\n",
      "17\t(118)\n",
      "18\t(63)\n"
     ]
    },
    {
     "ename": "KeyboardInterrupt",
     "evalue": "",
     "output_type": "error",
     "traceback": [
      "\u001b[0;31m---------------------------------------------------------------------------\u001b[0m",
      "\u001b[0;31mKeyboardInterrupt\u001b[0m                         Traceback (most recent call last)",
      "Cell \u001b[0;32mIn[18], line 8\u001b[0m\n\u001b[1;32m      6\u001b[0m \u001b[38;5;28mprint\u001b[39m(\u001b[38;5;124mf\u001b[39m\u001b[38;5;124m\"\u001b[39m\u001b[38;5;132;01m{\u001b[39;00mi\u001b[38;5;132;01m}\u001b[39;00m\u001b[38;5;130;01m\\t\u001b[39;00m\u001b[38;5;124m(\u001b[39m\u001b[38;5;132;01m{\u001b[39;00mvalue\u001b[38;5;132;01m}\u001b[39;00m\u001b[38;5;124m)\u001b[39m\u001b[38;5;124m\"\u001b[39m)\n\u001b[1;32m      7\u001b[0m ard\u001b[38;5;241m.\u001b[39mwrite(\u001b[38;5;124mf\u001b[39m\u001b[38;5;124m\"\u001b[39m\u001b[38;5;132;01m{\u001b[39;00mvalue\u001b[38;5;132;01m}\u001b[39;00m\u001b[38;5;130;01m\\n\u001b[39;00m\u001b[38;5;124m\"\u001b[39m\u001b[38;5;241m.\u001b[39mencode())  \u001b[38;5;66;03m# 랜덤 값을 문자열로 변환하여 전송\u001b[39;00m\n\u001b[0;32m----> 8\u001b[0m time\u001b[38;5;241m.\u001b[39msleep(\u001b[38;5;241m1\u001b[39m)\n",
      "\u001b[0;31mKeyboardInterrupt\u001b[0m: "
     ]
    }
   ],
   "source": [
    "time.sleep(5)  # 1초 대기\n",
    "# 아두이노로 랜덤 값을 문자열 형태로 전송하고 서보 모터 제어\n",
    "while True:\n",
    "    print(\"Index\\tValue\")\n",
    "    for i, value in enumerate(random_array):\n",
    "        print(f\"{i}\\t({value})\")\n",
    "        ard.write(f\"{value}\\n\".encode())  # 랜덤 값을 문자열로 변환하여 전송\n",
    "        time.sleep(1)  # 1초 대기"
   ]
  }
 ],
 "metadata": {
  "kernelspec": {
   "display_name": "base",
   "language": "python",
   "name": "python3"
  },
  "language_info": {
   "codemirror_mode": {
    "name": "ipython",
    "version": 3
   },
   "file_extension": ".py",
   "mimetype": "text/x-python",
   "name": "python",
   "nbconvert_exporter": "python",
   "pygments_lexer": "ipython3",
   "version": "3.11.7"
  }
 },
 "nbformat": 4,
 "nbformat_minor": 2
}
