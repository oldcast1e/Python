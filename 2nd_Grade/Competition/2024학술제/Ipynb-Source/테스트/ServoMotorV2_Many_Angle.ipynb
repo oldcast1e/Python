{
 "cells": [
  {
   "cell_type": "code",
   "execution_count": 53,
   "metadata": {},
   "outputs": [],
   "source": [
    "import serial\n",
    "import random\n",
    "import numpy as np\n",
    "import matplotlib.pyplot as plt\n",
    "import time"
   ]
  },
  {
   "cell_type": "code",
   "execution_count": 54,
   "metadata": {},
   "outputs": [
    {
     "data": {
      "text/plain": [
       "Serial<id=0x115244b20, open=True>(port='/dev/tty.usbserial-1130', baudrate=9600, bytesize=8, parity='N', stopbits=1, timeout=None, xonxoff=False, rtscts=False, dsrdtr=False)"
      ]
     },
     "execution_count": 54,
     "metadata": {},
     "output_type": "execute_result"
    }
   ],
   "source": [
    "serial.Serial(\"/dev/tty.usbserial-1130\",9600)"
   ]
  },
  {
   "cell_type": "code",
   "execution_count": 55,
   "metadata": {},
   "outputs": [],
   "source": [
    "ard = serial.Serial(\"/dev/tty.usbserial-1130\",9600)"
   ]
  },
  {
   "cell_type": "code",
   "execution_count": 56,
   "metadata": {},
   "outputs": [
    {
     "name": "stdout",
     "output_type": "stream",
     "text": [
      "Random Array: ['c', 'm', 'h', 'l', 'j', 'h', 'f', 'c', 'k', 'b', 'h', 'h', 'l', 'b', 'j', 'd', 'j', 'm', 'l', 'k', 'j']\n"
     ]
    }
   ],
   "source": [
    "# 문자형 난수 생성 및 저장\n",
    "random_array = [chr(random.randint(97, 109)) for _ in range(21)]\n",
    "\n",
    "print(\"Random Array:\", random_array)"
   ]
  },
  {
   "cell_type": "code",
   "execution_count": 57,
   "metadata": {},
   "outputs": [],
   "source": [
    "# while True: \n",
    "#     print(\"Index\\tValue\")\n",
    "#     for value in random_array:\n",
    "#         print(f\"{value-'a'}\\t({value-'a'*15})\")\n",
    "#         ard.write(str(value).encode())\n",
    "#         time.sleep(1)  # 1초 대기"
   ]
  },
  {
   "cell_type": "code",
   "execution_count": 63,
   "metadata": {},
   "outputs": [
    {
     "name": "stdout",
     "output_type": "stream",
     "text": [
      "Index\tValue\n",
      "c\t30\n",
      "m\t180\n"
     ]
    },
    {
     "ename": "KeyboardInterrupt",
     "evalue": "",
     "output_type": "error",
     "traceback": [
      "\u001b[0;31m---------------------------------------------------------------------------\u001b[0m",
      "\u001b[0;31mKeyboardInterrupt\u001b[0m                         Traceback (most recent call last)",
      "Cell \u001b[0;32mIn[63], line 7\u001b[0m\n\u001b[1;32m      5\u001b[0m \u001b[38;5;28mprint\u001b[39m(\u001b[38;5;124mf\u001b[39m\u001b[38;5;124m\"\u001b[39m\u001b[38;5;132;01m{\u001b[39;00mchar\u001b[38;5;132;01m}\u001b[39;00m\u001b[38;5;130;01m\\t\u001b[39;00m\u001b[38;5;132;01m{\u001b[39;00mascii_value\u001b[38;5;132;01m}\u001b[39;00m\u001b[38;5;124m\"\u001b[39m)\n\u001b[1;32m      6\u001b[0m ard\u001b[38;5;241m.\u001b[39mwrite(\u001b[38;5;28mbytes\u001b[39m([ascii_value]))  \u001b[38;5;66;03m# 문자로 변환하여 전송\u001b[39;00m\n\u001b[0;32m----> 7\u001b[0m time\u001b[38;5;241m.\u001b[39msleep(\u001b[38;5;241m1\u001b[39m)\n",
      "\u001b[0;31mKeyboardInterrupt\u001b[0m: "
     ]
    }
   ],
   "source": [
    "while True:\n",
    "    print(\"Index\\tValue\")\n",
    "    for char in random_array:\n",
    "        ascii_value = (ord(char) - ord('a'))*15  # a = 1, b = 2, ..., z = 26으로 변환\n",
    "        print(f\"{char}\\t{ascii_value}\")\n",
    "        # ard.write(bytes([ascii_value]))  # 바이트 형식으로 변환하여 전송\n",
    "        ard.write(str(ascii_value).encode())\n",
    "        time.sleep(1)  # 1초 대기"
   ]
  },
  {
   "cell_type": "code",
   "execution_count": null,
   "metadata": {},
   "outputs": [
    {
     "name": "stdout",
     "output_type": "stream",
     "text": [
      "Index\tValue\n",
      "e\t60\n",
      "l\t165\n",
      "l\t165\n",
      "a\t0\n",
      "d\t45\n",
      "i\t120\n",
      "j\t135\n",
      "m\t180\n",
      "k\t150\n",
      "i\t120\n",
      "m\t180\n",
      "f\t75\n",
      "g\t90\n",
      "d\t45\n",
      "d\t45\n",
      "i\t120\n",
      "f\t75\n",
      "c\t30\n",
      "f\t75\n",
      "k\t150\n",
      "j\t135\n"
     ]
    }
   ],
   "source": [
    "\n",
    "# print(\"Index\\tValue\")\n",
    "# for i, char in enumerate(random_array):\n",
    "#     ascii_value = (ord(char) - ord('a'))*15  # a = 1, b = 2, ..., z = 26으로 변환\n",
    "#     print(f\"{char}\\t{ascii_value}\")\n",
    "#     # print(f\"{i}\\t({angle})\")\n",
    "#     # Arduino로 전송\n",
    "#     ard.write(str(ascii_value).encode())"
   ]
  }
 ],
 "metadata": {
  "kernelspec": {
   "display_name": "base",
   "language": "python",
   "name": "python3"
  },
  "language_info": {
   "codemirror_mode": {
    "name": "ipython",
    "version": 3
   },
   "file_extension": ".py",
   "mimetype": "text/x-python",
   "name": "python",
   "nbconvert_exporter": "python",
   "pygments_lexer": "ipython3",
   "version": "3.11.7"
  }
 },
 "nbformat": 4,
 "nbformat_minor": 2
}
