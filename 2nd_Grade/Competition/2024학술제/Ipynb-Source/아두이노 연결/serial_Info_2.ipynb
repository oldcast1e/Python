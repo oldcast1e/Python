{
 "cells": [
  {
   "cell_type": "code",
   "execution_count": 7,
   "metadata": {},
   "outputs": [],
   "source": [
    "import serial"
   ]
  },
  {
   "cell_type": "code",
   "execution_count": 8,
   "metadata": {},
   "outputs": [
    {
     "data": {
      "text/plain": [
       "module"
      ]
     },
     "execution_count": 8,
     "metadata": {},
     "output_type": "execute_result"
    }
   ],
   "source": [
    "type(serial)"
   ]
  },
  {
   "cell_type": "code",
   "execution_count": 9,
   "metadata": {},
   "outputs": [
    {
     "data": {
      "text/plain": [
       "['CR',\n",
       " 'EIGHTBITS',\n",
       " 'FIVEBITS',\n",
       " 'LF',\n",
       " 'PARITY_EVEN',\n",
       " 'PARITY_MARK',\n",
       " 'PARITY_NAMES',\n",
       " 'PARITY_NONE',\n",
       " 'PARITY_ODD',\n",
       " 'PARITY_SPACE',\n",
       " 'PortNotOpenError',\n",
       " 'PosixPollSerial',\n",
       " 'SEVENBITS',\n",
       " 'SIXBITS',\n",
       " 'STOPBITS_ONE',\n",
       " 'STOPBITS_ONE_POINT_FIVE',\n",
       " 'STOPBITS_TWO',\n",
       " 'Serial',\n",
       " 'SerialBase',\n",
       " 'SerialException',\n",
       " 'SerialTimeoutException',\n",
       " 'Timeout',\n",
       " 'VERSION',\n",
       " 'VTIMESerial',\n",
       " 'XOFF',\n",
       " 'XON',\n",
       " '__builtins__',\n",
       " '__cached__',\n",
       " '__doc__',\n",
       " '__file__',\n",
       " '__loader__',\n",
       " '__name__',\n",
       " '__package__',\n",
       " '__path__',\n",
       " '__spec__',\n",
       " '__version__',\n",
       " 'absolute_import',\n",
       " 'basestring',\n",
       " 'importlib',\n",
       " 'io',\n",
       " 'iterbytes',\n",
       " 'os',\n",
       " 'protocol_handler_packages',\n",
       " 'serial_for_url',\n",
       " 'serialposix',\n",
       " 'serialutil',\n",
       " 'sys',\n",
       " 'time',\n",
       " 'to_bytes',\n",
       " 'unicode']"
      ]
     },
     "execution_count": 9,
     "metadata": {},
     "output_type": "execute_result"
    }
   ],
   "source": [
    "dir(serial)"
   ]
  },
  {
   "cell_type": "code",
   "execution_count": 10,
   "metadata": {},
   "outputs": [
    {
     "name": "stdout",
     "output_type": "stream",
     "text": [
      "Help on package serial:\n",
      "\n",
      "NAME\n",
      "    serial\n",
      "\n",
      "DESCRIPTION\n",
      "    # This is a wrapper module for different platform implementations\n",
      "    #\n",
      "    # This file is part of pySerial. https://github.com/pyserial/pyserial\n",
      "    # (C) 2001-2020 Chris Liechti <cliechti@gmx.net>\n",
      "    #\n",
      "    # SPDX-License-Identifier:    BSD-3-Clause\n",
      "\n",
      "PACKAGE CONTENTS\n",
      "    __main__\n",
      "    rfc2217\n",
      "    rs485\n",
      "    serialcli\n",
      "    serialjava\n",
      "    serialposix\n",
      "    serialutil\n",
      "    serialwin32\n",
      "    threaded (package)\n",
      "    tools (package)\n",
      "    urlhandler (package)\n",
      "    win32\n",
      "\n",
      "FUNCTIONS\n",
      "    serial_for_url(url, *args, **kwargs)\n",
      "        Get an instance of the Serial class, depending on port/url. The port is not\n",
      "        opened when the keyword parameter 'do_not_open' is true, by default it\n",
      "        is. All other parameters are directly passed to the __init__ method when\n",
      "        the port is instantiated.\n",
      "        \n",
      "        The list of package names that is searched for protocol handlers is kept in\n",
      "        ``protocol_handler_packages``.\n",
      "        \n",
      "        e.g. we want to support a URL ``foobar://``. A module\n",
      "        ``my_handlers.protocol_foobar`` is provided by the user. Then\n",
      "        ``protocol_handler_packages.append(\"my_handlers\")`` would extend the search\n",
      "        path so that ``serial_for_url(\"foobar://\"))`` would work.\n",
      "\n",
      "DATA\n",
      "    CR = b'\\r'\n",
      "    EIGHTBITS = 8\n",
      "    FIVEBITS = 5\n",
      "    LF = b'\\n'\n",
      "    PARITY_EVEN = 'E'\n",
      "    PARITY_MARK = 'M'\n",
      "    PARITY_NAMES = {'E': 'Even', 'M': 'Mark', 'N': 'None', 'O': 'Odd', 'S'...\n",
      "    PARITY_NONE = 'N'\n",
      "    PARITY_ODD = 'O'\n",
      "    PARITY_SPACE = 'S'\n",
      "    SEVENBITS = 7\n",
      "    SIXBITS = 6\n",
      "    STOPBITS_ONE = 1\n",
      "    STOPBITS_ONE_POINT_FIVE = 1.5\n",
      "    STOPBITS_TWO = 2\n",
      "    VERSION = '3.5'\n",
      "    XOFF = b'\\x13'\n",
      "    XON = b'\\x11'\n",
      "    basestring = (<class 'str'>,)\n",
      "    protocol_handler_packages = ['serial.urlhandler']\n",
      "\n",
      "VERSION\n",
      "    3.5\n",
      "\n",
      "FILE\n",
      "    /opt/anaconda3/lib/python3.11/site-packages/serial/__init__.py\n",
      "\n",
      "\n"
     ]
    }
   ],
   "source": [
    "help(serial)"
   ]
  },
  {
   "cell_type": "code",
   "execution_count": 11,
   "metadata": {},
   "outputs": [],
   "source": [
    "# ard = serial.Serial(\"/dev/tty.usbserial-1130\",9600)\n",
    "ard = serial.Serial(\"/dev/tty.usbserial-120\",9600)"
   ]
  },
  {
   "cell_type": "code",
   "execution_count": 12,
   "metadata": {},
   "outputs": [
    {
     "data": {
      "text/plain": [
       "serial.serialposix.Serial"
      ]
     },
     "execution_count": 12,
     "metadata": {},
     "output_type": "execute_result"
    }
   ],
   "source": [
    "type(ard)"
   ]
  },
  {
   "cell_type": "code",
   "execution_count": 13,
   "metadata": {},
   "outputs": [
    {
     "data": {
      "text/plain": [
       "['BAUDRATES',\n",
       " 'BAUDRATE_CONSTANTS',\n",
       " 'BYTESIZES',\n",
       " 'PARITIES',\n",
       " 'STOPBITS',\n",
       " 'TIOCCBRK',\n",
       " 'TIOCSBRK',\n",
       " '_SAVED_SETTINGS',\n",
       " '__abstractmethods__',\n",
       " '__class__',\n",
       " '__del__',\n",
       " '__delattr__',\n",
       " '__dict__',\n",
       " '__dir__',\n",
       " '__doc__',\n",
       " '__enter__',\n",
       " '__eq__',\n",
       " '__exit__',\n",
       " '__format__',\n",
       " '__ge__',\n",
       " '__getattribute__',\n",
       " '__getstate__',\n",
       " '__gt__',\n",
       " '__hash__',\n",
       " '__init__',\n",
       " '__init_subclass__',\n",
       " '__iter__',\n",
       " '__le__',\n",
       " '__lt__',\n",
       " '__module__',\n",
       " '__ne__',\n",
       " '__new__',\n",
       " '__next__',\n",
       " '__reduce__',\n",
       " '__reduce_ex__',\n",
       " '__repr__',\n",
       " '__setattr__',\n",
       " '__sizeof__',\n",
       " '__str__',\n",
       " '__subclasshook__',\n",
       " '__weakref__',\n",
       " '_abc_impl',\n",
       " '_baudrate',\n",
       " '_break_state',\n",
       " '_bytesize',\n",
       " '_checkClosed',\n",
       " '_checkReadable',\n",
       " '_checkSeekable',\n",
       " '_checkWritable',\n",
       " '_dsrdtr',\n",
       " '_dtr_state',\n",
       " '_exclusive',\n",
       " '_inter_byte_timeout',\n",
       " '_parity',\n",
       " '_port',\n",
       " '_reconfigure_port',\n",
       " '_reset_input_buffer',\n",
       " '_rs485_mode',\n",
       " '_rts_state',\n",
       " '_rtscts',\n",
       " '_set_rs485_mode',\n",
       " '_set_special_baudrate',\n",
       " '_stopbits',\n",
       " '_timeout',\n",
       " '_update_break_state',\n",
       " '_update_dtr_state',\n",
       " '_update_rts_state',\n",
       " '_write_timeout',\n",
       " '_xonxoff',\n",
       " 'applySettingsDict',\n",
       " 'apply_settings',\n",
       " 'baudrate',\n",
       " 'break_condition',\n",
       " 'bytesize',\n",
       " 'cancel_read',\n",
       " 'cancel_write',\n",
       " 'cd',\n",
       " 'close',\n",
       " 'closed',\n",
       " 'cts',\n",
       " 'dsr',\n",
       " 'dsrdtr',\n",
       " 'dtr',\n",
       " 'exclusive',\n",
       " 'fd',\n",
       " 'fileno',\n",
       " 'flush',\n",
       " 'flushInput',\n",
       " 'flushOutput',\n",
       " 'getCD',\n",
       " 'getCTS',\n",
       " 'getDSR',\n",
       " 'getRI',\n",
       " 'getSettingsDict',\n",
       " 'get_settings',\n",
       " 'inWaiting',\n",
       " 'in_waiting',\n",
       " 'interCharTimeout',\n",
       " 'inter_byte_timeout',\n",
       " 'iread_until',\n",
       " 'isOpen',\n",
       " 'is_open',\n",
       " 'isatty',\n",
       " 'name',\n",
       " 'nonblocking',\n",
       " 'open',\n",
       " 'osx_version',\n",
       " 'out_waiting',\n",
       " 'parity',\n",
       " 'pipe_abort_read_r',\n",
       " 'pipe_abort_read_w',\n",
       " 'pipe_abort_write_r',\n",
       " 'pipe_abort_write_w',\n",
       " 'port',\n",
       " 'portstr',\n",
       " 'read',\n",
       " 'read_all',\n",
       " 'read_until',\n",
       " 'readable',\n",
       " 'readall',\n",
       " 'readinto',\n",
       " 'readline',\n",
       " 'readlines',\n",
       " 'reset_input_buffer',\n",
       " 'reset_output_buffer',\n",
       " 'ri',\n",
       " 'rs485_mode',\n",
       " 'rts',\n",
       " 'rtscts',\n",
       " 'seek',\n",
       " 'seekable',\n",
       " 'sendBreak',\n",
       " 'send_break',\n",
       " 'setDTR',\n",
       " 'setPort',\n",
       " 'setRTS',\n",
       " 'set_input_flow_control',\n",
       " 'set_low_latency_mode',\n",
       " 'set_output_flow_control',\n",
       " 'stopbits',\n",
       " 'tell',\n",
       " 'timeout',\n",
       " 'truncate',\n",
       " 'writable',\n",
       " 'write',\n",
       " 'writeTimeout',\n",
       " 'write_timeout',\n",
       " 'writelines',\n",
       " 'xonxoff']"
      ]
     },
     "execution_count": 13,
     "metadata": {},
     "output_type": "execute_result"
    }
   ],
   "source": [
    "dir(ard)"
   ]
  },
  {
   "cell_type": "markdown",
   "metadata": {},
   "source": [
    "아두이노는 문자열이 아닌 char 형태의 처리만 가능\n",
    "#unocode -> char //아두이노\n",
    "#unocode -> bytes //파이썬"
   ]
  },
  {
   "cell_type": "markdown",
   "metadata": {},
   "source": [
    "바이트 변환 - 파이썬 기능"
   ]
  },
  {
   "cell_type": "markdown",
   "metadata": {},
   "source": [
    "#unocode(str) -> bytes //파이썬"
   ]
  },
  {
   "cell_type": "code",
   "execution_count": 14,
   "metadata": {},
   "outputs": [
    {
     "ename": "TypeError",
     "evalue": "unicode strings are not supported, please encode to bytes: 'Hello'",
     "output_type": "error",
     "traceback": [
      "\u001b[0;31m---------------------------------------------------------------------------\u001b[0m",
      "\u001b[0;31mTypeError\u001b[0m                                 Traceback (most recent call last)",
      "Cell \u001b[0;32mIn[14], line 1\u001b[0m\n\u001b[0;32m----> 1\u001b[0m ard\u001b[38;5;241m.\u001b[39mwrite(\u001b[38;5;124m'\u001b[39m\u001b[38;5;124mHello\u001b[39m\u001b[38;5;124m'\u001b[39m)\n",
      "File \u001b[0;32m/opt/anaconda3/lib/python3.11/site-packages/serial/serialposix.py:616\u001b[0m, in \u001b[0;36mSerial.write\u001b[0;34m(self, data)\u001b[0m\n\u001b[1;32m    614\u001b[0m \u001b[38;5;28;01mif\u001b[39;00m \u001b[38;5;129;01mnot\u001b[39;00m \u001b[38;5;28mself\u001b[39m\u001b[38;5;241m.\u001b[39mis_open:\n\u001b[1;32m    615\u001b[0m     \u001b[38;5;28;01mraise\u001b[39;00m PortNotOpenError()\n\u001b[0;32m--> 616\u001b[0m d \u001b[38;5;241m=\u001b[39m to_bytes(data)\n\u001b[1;32m    617\u001b[0m tx_len \u001b[38;5;241m=\u001b[39m length \u001b[38;5;241m=\u001b[39m \u001b[38;5;28mlen\u001b[39m(d)\n\u001b[1;32m    618\u001b[0m timeout \u001b[38;5;241m=\u001b[39m Timeout(\u001b[38;5;28mself\u001b[39m\u001b[38;5;241m.\u001b[39m_write_timeout)\n",
      "File \u001b[0;32m/opt/anaconda3/lib/python3.11/site-packages/serial/serialutil.py:65\u001b[0m, in \u001b[0;36mto_bytes\u001b[0;34m(seq)\u001b[0m\n\u001b[1;32m     63\u001b[0m     \u001b[38;5;28;01mreturn\u001b[39;00m seq\u001b[38;5;241m.\u001b[39mtobytes()\n\u001b[1;32m     64\u001b[0m \u001b[38;5;28;01melif\u001b[39;00m \u001b[38;5;28misinstance\u001b[39m(seq, unicode):\n\u001b[0;32m---> 65\u001b[0m     \u001b[38;5;28;01mraise\u001b[39;00m \u001b[38;5;167;01mTypeError\u001b[39;00m(\u001b[38;5;124m'\u001b[39m\u001b[38;5;124municode strings are not supported, please encode to bytes: \u001b[39m\u001b[38;5;132;01m{!r}\u001b[39;00m\u001b[38;5;124m'\u001b[39m\u001b[38;5;241m.\u001b[39mformat(seq))\n\u001b[1;32m     66\u001b[0m \u001b[38;5;28;01melse\u001b[39;00m:\n\u001b[1;32m     67\u001b[0m     \u001b[38;5;66;03m# handle list of integers and bytes (one or more items) for Python 2 and 3\u001b[39;00m\n\u001b[1;32m     68\u001b[0m     \u001b[38;5;28;01mreturn\u001b[39;00m \u001b[38;5;28mbytes\u001b[39m(\u001b[38;5;28mbytearray\u001b[39m(seq))\n",
      "\u001b[0;31mTypeError\u001b[0m: unicode strings are not supported, please encode to bytes: 'Hello'"
     ]
    }
   ],
   "source": [
    "ard.write('Hello')"
   ]
  },
  {
   "cell_type": "code",
   "execution_count": 15,
   "metadata": {},
   "outputs": [],
   "source": [
    "s  = 'Hello'\n",
    "c = s.encode()"
   ]
  },
  {
   "cell_type": "code",
   "execution_count": 16,
   "metadata": {},
   "outputs": [
    {
     "data": {
      "text/plain": [
       "str"
      ]
     },
     "execution_count": 16,
     "metadata": {},
     "output_type": "execute_result"
    }
   ],
   "source": [
    "type(s)"
   ]
  },
  {
   "cell_type": "code",
   "execution_count": 17,
   "metadata": {},
   "outputs": [
    {
     "data": {
      "text/plain": [
       "str"
      ]
     },
     "execution_count": 17,
     "metadata": {},
     "output_type": "execute_result"
    }
   ],
   "source": [
    "c = b'World'\n",
    "s = c.decode()\n",
    "type(s)"
   ]
  },
  {
   "cell_type": "code",
   "execution_count": null,
   "metadata": {},
   "outputs": [],
   "source": [
    "c = ard.read(1)"
   ]
  },
  {
   "cell_type": "code",
   "execution_count": 18,
   "metadata": {},
   "outputs": [
    {
     "data": {
      "text/plain": [
       "bytes"
      ]
     },
     "execution_count": 18,
     "metadata": {},
     "output_type": "execute_result"
    }
   ],
   "source": [
    "type(c)"
   ]
  },
  {
   "cell_type": "markdown",
   "metadata": {},
   "source": []
  },
  {
   "cell_type": "code",
   "execution_count": 19,
   "metadata": {},
   "outputs": [
    {
     "name": "stdout",
     "output_type": "stream",
     "text": [
      "World\n"
     ]
    }
   ],
   "source": [
    "s = c.decode()\n",
    "print(s)"
   ]
  },
  {
   "cell_type": "code",
   "execution_count": 20,
   "metadata": {},
   "outputs": [],
   "source": [
    "c  = ard.readline()"
   ]
  },
  {
   "cell_type": "code",
   "execution_count": 21,
   "metadata": {},
   "outputs": [
    {
     "name": "stdout",
     "output_type": "stream",
     "text": [
      "World232/06/01 00:01:41\n",
      "\n"
     ]
    }
   ],
   "source": [
    "s += c.decode() #bytes -> str\n",
    "print(s)"
   ]
  },
  {
   "cell_type": "code",
   "execution_count": 22,
   "metadata": {},
   "outputs": [
    {
     "data": {
      "text/plain": [
       "5"
      ]
     },
     "execution_count": 22,
     "metadata": {},
     "output_type": "execute_result"
    }
   ],
   "source": [
    "ard.write(b'Hello')"
   ]
  },
  {
   "cell_type": "code",
   "execution_count": 23,
   "metadata": {},
   "outputs": [
    {
     "data": {
      "text/plain": [
       "540"
      ]
     },
     "execution_count": 23,
     "metadata": {},
     "output_type": "execute_result"
    }
   ],
   "source": [
    "ard.inWaiting()"
   ]
  },
  {
   "cell_type": "code",
   "execution_count": 24,
   "metadata": {},
   "outputs": [],
   "source": [
    "c  = ard.readline()"
   ]
  },
  {
   "cell_type": "code",
   "execution_count": 25,
   "metadata": {},
   "outputs": [
    {
     "name": "stdout",
     "output_type": "stream",
     "text": [
      "World232/06/01 00:01:41\n",
      "232/06/01 00:01:42\n",
      "\n"
     ]
    }
   ],
   "source": [
    "s += c.decode()\n",
    "print(s)"
   ]
  }
 ],
 "metadata": {
  "kernelspec": {
   "display_name": "base",
   "language": "python",
   "name": "python3"
  },
  "language_info": {
   "codemirror_mode": {
    "name": "ipython",
    "version": 3
   },
   "file_extension": ".py",
   "mimetype": "text/x-python",
   "name": "python",
   "nbconvert_exporter": "python",
   "pygments_lexer": "ipython3",
   "version": "3.11.7"
  }
 },
 "nbformat": 4,
 "nbformat_minor": 2
}
