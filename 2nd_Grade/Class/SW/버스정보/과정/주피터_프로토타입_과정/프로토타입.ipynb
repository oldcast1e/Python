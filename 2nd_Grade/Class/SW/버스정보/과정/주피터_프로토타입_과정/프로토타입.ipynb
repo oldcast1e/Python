{
 "cells": [
  {
   "cell_type": "code",
   "execution_count": 25,
   "metadata": {},
   "outputs": [],
   "source": [
    "import pandas as pd\n",
    "import numpy as np\n",
    "import requests\n",
    "from bs4 import BeautifulSoup\n",
    "import time\n",
    "import serial"
   ]
  },
  {
   "cell_type": "code",
   "execution_count": 26,
   "metadata": {},
   "outputs": [],
   "source": [
    "key = \"nyVvF841UBPdCn%2BvugXzKE1EEwkhTBIhjhaXOQgC%2FAlD2F0YongS3tfgXgIxbW5lmlkuJ6Szjamn18IPVNMpXA%3D%3D\""
   ]
  },
  {
   "cell_type": "code",
   "execution_count": 27,
   "metadata": {},
   "outputs": [],
   "source": [
    "# 아두이노 시리얼 포트와 속도 설정\n",
    "serial_port = \"/dev/tty.usbserial-0001\"\n",
    "baud_rate = 115200\n",
    "\n",
    "# 시리얼 포트 연결\n",
    "ard = serial.Serial(serial_port, baud_rate)"
   ]
  },
  {
   "cell_type": "code",
   "execution_count": 28,
   "metadata": {},
   "outputs": [],
   "source": [
    "def getArrivalInfo(arsId):\n",
    "    # 정류소고유번호(arsId)를 이용하여 해당 정류소의 정보를 가져옴\n",
    "    html = requests.get('http://ws.bus.go.kr/api/rest/stationinfo/getStationByUid?serviceKey='+key+'&arsId='+arsId).text\n",
    "    root = BeautifulSoup(html, 'xml')\n",
    "    # 정류소명과 버스도착정보목록을 출력\n",
    "    station_name = root.find('stNm').text\n",
    "    # 정류소에 도착하는 버스 정보를 가져옴\n",
    "    items = root.find_all('itemList')\n",
    "    for item in items:\n",
    "        # 버스번호, 남은시간 등의 정보를 출력\n",
    "        bus_route_id = item.find('busRouteId').text\n",
    "        bus_route_name = item.find('rtNm').text\n",
    "        predict_msg = item.find('arrmsg1').text  # 예상 도착 메시지\n",
    "        if predict_msg == '운행종료':\n",
    "            print(f'{bus_route_name}: 운행종료!')\n",
    "            # ard_bus_route_name = bus_route_name\n",
    "            # ard.write(ard_bus_route_name)\n",
    "            # ard.write(\" : 운행종료!\")\n",
    "\n",
    "        elif predict_msg == '곧 도착':\n",
    "            print(f'{bus_route_name}: 곧 도착!')\n",
    "            # ard_bus_route_name = bus_route_name\n",
    "            # ard.write(ard_bus_route_name) \n",
    "            # ard.write(\" : 곧 도착!\")\n",
    "        else:\n",
    "            # 예상 도착 시간과 \"후\"를 분리하여 처리\n",
    "            time, suffix = predict_msg.split('후')\n",
    "            time = time.strip()  # 앞뒤 공백 제거\n",
    "            # 예상 도착 시간을 '분'과 '초'로 분리하여 출력\n",
    "            minutes, seconds = time.split('분')\n",
    "            print(f'{bus_route_name}: {minutes.strip()} 분 {seconds} 후!')\n",
    "            \n",
    "            # ard_bus_route_name = bus_route_name\n",
    "            # ard_bus_minutes = minutes\n",
    "            # ard_bus_seconds = seconds\n",
    "            # ard.write(ard_bus_route_name)\n"
   ]
  },
  {
   "cell_type": "code",
   "execution_count": 29,
   "metadata": {},
   "outputs": [],
   "source": [
    "# 4개의 정류소에 대해 1분마다 정보를 출력하는 함수\n",
    "def main():\n",
    "    arsIds = ['05251']  # 4개의 정류소고유번호\n",
    "    status = 0\n",
    "    while True:\n",
    "        for arsId in arsIds:\n",
    "            getArrivalInfo(arsId)\n",
    "        time.sleep(60)  # 1분 간격으로 API 값을 불러옴"
   ]
  },
  {
   "cell_type": "code",
   "execution_count": 30,
   "metadata": {},
   "outputs": [
    {
     "name": "stdout",
     "output_type": "stream",
     "text": [
      "422: 운행종료!\n",
      "721: 운행종료!\n",
      "N61: 5 분 38초 후!\n"
     ]
    },
    {
     "ename": "ValueError",
     "evalue": "not enough values to unpack (expected 2, got 1)",
     "output_type": "error",
     "traceback": [
      "\u001b[0;31m---------------------------------------------------------------------------\u001b[0m",
      "\u001b[0;31mValueError\u001b[0m                                Traceback (most recent call last)",
      "Cell \u001b[0;32mIn[30], line 2\u001b[0m\n\u001b[1;32m      1\u001b[0m \u001b[38;5;28;01mif\u001b[39;00m \u001b[38;5;18m__name__\u001b[39m \u001b[38;5;241m==\u001b[39m \u001b[38;5;124m\"\u001b[39m\u001b[38;5;124m__main__\u001b[39m\u001b[38;5;124m\"\u001b[39m:\n\u001b[0;32m----> 2\u001b[0m     main()\n",
      "Cell \u001b[0;32mIn[29], line 7\u001b[0m, in \u001b[0;36mmain\u001b[0;34m()\u001b[0m\n\u001b[1;32m      5\u001b[0m \u001b[38;5;28;01mwhile\u001b[39;00m \u001b[38;5;28;01mTrue\u001b[39;00m:\n\u001b[1;32m      6\u001b[0m     \u001b[38;5;28;01mfor\u001b[39;00m arsId \u001b[38;5;129;01min\u001b[39;00m arsIds:\n\u001b[0;32m----> 7\u001b[0m         getArrivalInfo(arsId)\n\u001b[1;32m      8\u001b[0m     time\u001b[38;5;241m.\u001b[39msleep(\u001b[38;5;241m60\u001b[39m)\n",
      "Cell \u001b[0;32mIn[28], line 27\u001b[0m, in \u001b[0;36mgetArrivalInfo\u001b[0;34m(arsId)\u001b[0m\n\u001b[1;32m     21\u001b[0m     \u001b[38;5;28mprint\u001b[39m(\u001b[38;5;124mf\u001b[39m\u001b[38;5;124m'\u001b[39m\u001b[38;5;132;01m{\u001b[39;00mbus_route_name\u001b[38;5;132;01m}\u001b[39;00m\u001b[38;5;124m: 곧 도착!\u001b[39m\u001b[38;5;124m'\u001b[39m)\n\u001b[1;32m     22\u001b[0m     \u001b[38;5;66;03m# ard_bus_route_name = bus_route_name\u001b[39;00m\n\u001b[1;32m     23\u001b[0m     \u001b[38;5;66;03m# ard.write(ard_bus_route_name) \u001b[39;00m\n\u001b[1;32m     24\u001b[0m     \u001b[38;5;66;03m# ard.write(\" : 곧 도착!\")\u001b[39;00m\n\u001b[1;32m     25\u001b[0m \u001b[38;5;28;01melse\u001b[39;00m:\n\u001b[1;32m     26\u001b[0m     \u001b[38;5;66;03m# 예상 도착 시간과 \"후\"를 분리하여 처리\u001b[39;00m\n\u001b[0;32m---> 27\u001b[0m     time, suffix \u001b[38;5;241m=\u001b[39m predict_msg\u001b[38;5;241m.\u001b[39msplit(\u001b[38;5;124m'\u001b[39m\u001b[38;5;124m후\u001b[39m\u001b[38;5;124m'\u001b[39m)\n\u001b[1;32m     28\u001b[0m     time \u001b[38;5;241m=\u001b[39m time\u001b[38;5;241m.\u001b[39mstrip()  \u001b[38;5;66;03m# 앞뒤 공백 제거\u001b[39;00m\n\u001b[1;32m     29\u001b[0m     \u001b[38;5;66;03m# 예상 도착 시간을 '분'과 '초'로 분리하여 출력\u001b[39;00m\n",
      "\u001b[0;31mValueError\u001b[0m: not enough values to unpack (expected 2, got 1)"
     ]
    }
   ],
   "source": [
    "if __name__ == \"__main__\":\n",
    "    main()"
   ]
  }
 ],
 "metadata": {
  "kernelspec": {
   "display_name": "base",
   "language": "python",
   "name": "python3"
  },
  "language_info": {
   "codemirror_mode": {
    "name": "ipython",
    "version": 3
   },
   "file_extension": ".py",
   "mimetype": "text/x-python",
   "name": "python",
   "nbconvert_exporter": "python",
   "pygments_lexer": "ipython3",
   "version": "3.11.7"
  }
 },
 "nbformat": 4,
 "nbformat_minor": 2
}
