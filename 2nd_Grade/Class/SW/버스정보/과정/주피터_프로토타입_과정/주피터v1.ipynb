{
 "cells": [
  {
   "cell_type": "code",
   "execution_count": 10,
   "metadata": {},
   "outputs": [],
   "source": [
    "import time\n",
    "import pandas as pd\n",
    "import numpy as np\n",
    "import requests\n",
    "from bs4 import BeautifulSoup"
   ]
  },
  {
   "cell_type": "code",
   "execution_count": 11,
   "metadata": {},
   "outputs": [],
   "source": [
    "key = \"nyVvF841UBPdCn%2BvugXzKE1EEwkhTBIhjhaXOQgC%2FAlD2F0YongS3tfgXgIxbW5lmlkuJ6Szjamn18IPVNMpXA%3D%3D\""
   ]
  },
  {
   "cell_type": "code",
   "execution_count": 12,
   "metadata": {},
   "outputs": [],
   "source": [
    "def getArrivalInfo(arsId):\n",
    "    html = requests.get('http://ws.bus.go.kr/api/rest/stationinfo/getStationByUid?serviceKey='+key+'&arsId='+arsId).text\n",
    "    root = BeautifulSoup(html, 'xml')\n",
    "    station_name = root.find('stNm').text\n",
    "    result = f'======= {station_name} =======\\n'\n",
    "    items = root.find_all('itemList')\n",
    "    for item in items:\n",
    "        bus_route_id = item.find('busRouteId').text\n",
    "        bus_route_name = item.find('rtNm').text\n",
    "        predict_msg = item.find('arrmsg1').text  \n",
    "        if predict_msg == '운행종료':\n",
    "            result += f'버스번호: {bus_route_name}: 운행종료\\n'\n",
    "        elif predict_msg == '곧 도착':\n",
    "            result += f'버스번호: {bus_route_name}: 곧 도착\\n'\n",
    "        else:\n",
    "            time, suffix = predict_msg.split('후')\n",
    "            time = time.strip()\n",
    "            minutes, seconds = time.split('분')\n",
    "            result += f'버스번호: {bus_route_name}: {minutes.strip()} 분 {seconds} 후\\n'\n",
    "    return result"
   ]
  },
  {
   "cell_type": "code",
   "execution_count": 13,
   "metadata": {},
   "outputs": [],
   "source": [
    "import serial"
   ]
  },
  {
   "cell_type": "code",
   "execution_count": 14,
   "metadata": {},
   "outputs": [],
   "source": [
    "# serial.Serial(\"/dev/tty.usbserial-1130\",9600)\n",
    "serial.Serial(\"/dev/tty.usbserial-0001\",115200)\n",
    "# ard = serial.Serial(\"/dev/tty.usbserial-1130\",9600)\n",
    "ard = serial.Serial(\"/dev/tty.usbserial-0001\",115200)"
   ]
  },
  {
   "cell_type": "code",
   "execution_count": 15,
   "metadata": {},
   "outputs": [],
   "source": [
    "def main():\n",
    "    arsIds = ['05251', '05698', '05699']\n",
    "    while True:\n",
    "        for arsId in arsIds:\n",
    "            # 시리얼 통신을 통해 아두이노로 정보를 전송\n",
    "            ard.write(getArrivalInfo(arsId).encode())\n",
    "            time.sleep(1)\n",
    "        time.sleep(59)  # API 호출 시간 간격을 고려하여 59초를 대기"
   ]
  },
  {
   "cell_type": "code",
   "execution_count": 17,
   "metadata": {},
   "outputs": [
    {
     "ename": "KeyboardInterrupt",
     "evalue": "",
     "output_type": "error",
     "traceback": [
      "\u001b[0;31m---------------------------------------------------------------------------\u001b[0m",
      "\u001b[0;31mKeyboardInterrupt\u001b[0m                         Traceback (most recent call last)",
      "Cell \u001b[0;32mIn[17], line 2\u001b[0m\n\u001b[1;32m      1\u001b[0m \u001b[38;5;28;01mif\u001b[39;00m \u001b[38;5;18m__name__\u001b[39m \u001b[38;5;241m==\u001b[39m \u001b[38;5;124m\"\u001b[39m\u001b[38;5;124m__main__\u001b[39m\u001b[38;5;124m\"\u001b[39m:\n\u001b[0;32m----> 2\u001b[0m     main()\n",
      "Cell \u001b[0;32mIn[15], line 8\u001b[0m, in \u001b[0;36mmain\u001b[0;34m()\u001b[0m\n\u001b[1;32m      6\u001b[0m     ard\u001b[38;5;241m.\u001b[39mwrite(getArrivalInfo(arsId)\u001b[38;5;241m.\u001b[39mencode())\n\u001b[1;32m      7\u001b[0m     time\u001b[38;5;241m.\u001b[39msleep(\u001b[38;5;241m1\u001b[39m)\n\u001b[0;32m----> 8\u001b[0m time\u001b[38;5;241m.\u001b[39msleep(\u001b[38;5;241m59\u001b[39m)\n",
      "\u001b[0;31mKeyboardInterrupt\u001b[0m: "
     ]
    }
   ],
   "source": [
    "if __name__ == \"__main__\":\n",
    "    main()"
   ]
  }
 ],
 "metadata": {
  "kernelspec": {
   "display_name": "base",
   "language": "python",
   "name": "python3"
  },
  "language_info": {
   "codemirror_mode": {
    "name": "ipython",
    "version": 3
   },
   "file_extension": ".py",
   "mimetype": "text/x-python",
   "name": "python",
   "nbconvert_exporter": "python",
   "pygments_lexer": "ipython3",
   "version": "3.11.7"
  }
 },
 "nbformat": 4,
 "nbformat_minor": 2
}
