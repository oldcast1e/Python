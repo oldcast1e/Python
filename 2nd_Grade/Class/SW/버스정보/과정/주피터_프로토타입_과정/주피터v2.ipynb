{
 "cells": [
  {
   "cell_type": "code",
   "execution_count": 1,
   "metadata": {},
   "outputs": [],
   "source": [
    "import time\n",
    "import pandas as pd\n",
    "import numpy as np\n",
    "import requests\n",
    "from bs4 import BeautifulSoup"
   ]
  },
  {
   "cell_type": "code",
   "execution_count": 2,
   "metadata": {},
   "outputs": [],
   "source": [
    "key = \"nyVvF841UBPdCn%2BvugXzKE1EEwkhTBIhjhaXOQgC%2FAlD2F0YongS3tfgXgIxbW5lmlkuJ6Szjamn18IPVNMpXA%3D%3D\""
   ]
  },
  {
   "cell_type": "code",
   "execution_count": 3,
   "metadata": {},
   "outputs": [],
   "source": [
    "import serial"
   ]
  },
  {
   "cell_type": "code",
   "execution_count": 4,
   "metadata": {},
   "outputs": [],
   "source": [
    "# serial.Serial(\"/dev/tty.usbserial-1130\",9600)\n",
    "serial.Serial(\"/dev/tty.usbserial-0001\",115200)\n",
    "# ard = serial.Serial(\"/dev/tty.usbserial-1130\",9600)\n",
    "ard = serial.Serial(\"/dev/tty.usbserial-0001\",115200)"
   ]
  },
  {
   "cell_type": "code",
   "execution_count": 5,
   "metadata": {},
   "outputs": [],
   "source": [
    "def getArrivalInfo(arsId):\n",
    "    # 정류소고유번호(arsId)를 이용하여 해당 정류소의 정보를 가져옴\n",
    "    html = requests.get('http://ws.bus.go.kr/api/rest/stationinfo/getStationByUid?serviceKey='+key+'&arsId='+arsId).text\n",
    "    root = BeautifulSoup(html, 'xml')\n",
    "    # 정류소명과 버스도착정보목록을 출력\n",
    "    station_name = root.find('stNm').text\n",
    "    # 정류소에 도착하는 버스 정보를 가져옴\n",
    "    items = root.find_all('itemList')\n",
    "    for item in items:\n",
    "        # 버스번호, 남은시간 등의 정보를 출력\n",
    "        bus_route_id = item.find('busRouteId').text\n",
    "        bus_route_name = item.find('rtNm').text\n",
    "        predict_msg = item.find('arrmsg1').text  # 예상 도착 메시지\n",
    "        if predict_msg == '운행종료':\n",
    "            print(f'{bus_route_name}: 운행종료!')\n",
    "        elif predict_msg == '곧 도착':\n",
    "            print(f'{bus_route_name}: 곧 도착!')\n",
    "        else:\n",
    "            # 예상 도착 시간과 \"후\"를 분리하여 처리\n",
    "            time, suffix = predict_msg.split('후')\n",
    "            time = time.strip()  # 앞뒤 공백 제거\n",
    "            # 예상 도착 시간을 '분'과 '초'로 분리하여 출력\n",
    "            minutes, seconds = time.split('분')\n",
    "            print(f'{bus_route_name}: {minutes.strip()} 분 {seconds} 후!')"
   ]
  },
  {
   "cell_type": "code",
   "execution_count": 6,
   "metadata": {},
   "outputs": [
    {
     "name": "stdout",
     "output_type": "stream",
     "text": [
      "422: 운행종료!\n"
     ]
    },
    {
     "ename": "TypeError",
     "evalue": "unicode strings are not supported, please encode to bytes: '422'",
     "output_type": "error",
     "traceback": [
      "\u001b[0;31m---------------------------------------------------------------------------\u001b[0m",
      "\u001b[0;31mTypeError\u001b[0m                                 Traceback (most recent call last)",
      "Cell \u001b[0;32mIn[6], line 11\u001b[0m\n\u001b[1;32m      8\u001b[0m         time\u001b[38;5;241m.\u001b[39msleep(\u001b[38;5;241m60\u001b[39m)  \u001b[38;5;66;03m# 1분 간격으로 API 값을 불러옴\u001b[39;00m\n\u001b[1;32m     10\u001b[0m \u001b[38;5;28;01mif\u001b[39;00m \u001b[38;5;18m__name__\u001b[39m \u001b[38;5;241m==\u001b[39m \u001b[38;5;124m\"\u001b[39m\u001b[38;5;124m__main__\u001b[39m\u001b[38;5;124m\"\u001b[39m:\n\u001b[0;32m---> 11\u001b[0m     main()\n",
      "Cell \u001b[0;32mIn[6], line 7\u001b[0m, in \u001b[0;36mmain\u001b[0;34m()\u001b[0m\n\u001b[1;32m      5\u001b[0m \u001b[38;5;28;01mwhile\u001b[39;00m \u001b[38;5;28;01mTrue\u001b[39;00m:\n\u001b[1;32m      6\u001b[0m     \u001b[38;5;28;01mfor\u001b[39;00m arsId \u001b[38;5;129;01min\u001b[39;00m arsIds:\n\u001b[0;32m----> 7\u001b[0m         getArrivalInfo(arsId)\n\u001b[1;32m      8\u001b[0m     time\u001b[38;5;241m.\u001b[39msleep(\u001b[38;5;241m60\u001b[39m)\n",
      "Cell \u001b[0;32mIn[5], line 16\u001b[0m, in \u001b[0;36mgetArrivalInfo\u001b[0;34m(arsId)\u001b[0m\n\u001b[1;32m     14\u001b[0m \u001b[38;5;28;01mif\u001b[39;00m predict_msg \u001b[38;5;241m==\u001b[39m \u001b[38;5;124m'\u001b[39m\u001b[38;5;124m운행종료\u001b[39m\u001b[38;5;124m'\u001b[39m:\n\u001b[1;32m     15\u001b[0m     \u001b[38;5;28mprint\u001b[39m(\u001b[38;5;124mf\u001b[39m\u001b[38;5;124m'\u001b[39m\u001b[38;5;132;01m{\u001b[39;00mbus_route_name\u001b[38;5;132;01m}\u001b[39;00m\u001b[38;5;124m: 운행종료!\u001b[39m\u001b[38;5;124m'\u001b[39m)\n\u001b[0;32m---> 16\u001b[0m     ard\u001b[38;5;241m.\u001b[39mwrite(bus_route_name)\n\u001b[1;32m     17\u001b[0m \u001b[38;5;28;01melif\u001b[39;00m predict_msg \u001b[38;5;241m==\u001b[39m \u001b[38;5;124m'\u001b[39m\u001b[38;5;124m곧 도착\u001b[39m\u001b[38;5;124m'\u001b[39m:\n\u001b[1;32m     18\u001b[0m     \u001b[38;5;28mprint\u001b[39m(\u001b[38;5;124mf\u001b[39m\u001b[38;5;124m'\u001b[39m\u001b[38;5;132;01m{\u001b[39;00mbus_route_name\u001b[38;5;132;01m}\u001b[39;00m\u001b[38;5;124m: 곧 도착!\u001b[39m\u001b[38;5;124m'\u001b[39m)\n",
      "File \u001b[0;32m/opt/anaconda3/lib/python3.11/site-packages/serial/serialposix.py:616\u001b[0m, in \u001b[0;36mSerial.write\u001b[0;34m(self, data)\u001b[0m\n\u001b[1;32m    614\u001b[0m \u001b[38;5;28;01mif\u001b[39;00m \u001b[38;5;129;01mnot\u001b[39;00m \u001b[38;5;28mself\u001b[39m\u001b[38;5;241m.\u001b[39mis_open:\n\u001b[1;32m    615\u001b[0m     \u001b[38;5;28;01mraise\u001b[39;00m PortNotOpenError()\n\u001b[0;32m--> 616\u001b[0m d \u001b[38;5;241m=\u001b[39m to_bytes(data)\n\u001b[1;32m    617\u001b[0m tx_len \u001b[38;5;241m=\u001b[39m length \u001b[38;5;241m=\u001b[39m \u001b[38;5;28mlen\u001b[39m(d)\n\u001b[1;32m    618\u001b[0m timeout \u001b[38;5;241m=\u001b[39m Timeout(\u001b[38;5;28mself\u001b[39m\u001b[38;5;241m.\u001b[39m_write_timeout)\n",
      "File \u001b[0;32m/opt/anaconda3/lib/python3.11/site-packages/serial/serialutil.py:65\u001b[0m, in \u001b[0;36mto_bytes\u001b[0;34m(seq)\u001b[0m\n\u001b[1;32m     63\u001b[0m     \u001b[38;5;28;01mreturn\u001b[39;00m seq\u001b[38;5;241m.\u001b[39mtobytes()\n\u001b[1;32m     64\u001b[0m \u001b[38;5;28;01melif\u001b[39;00m \u001b[38;5;28misinstance\u001b[39m(seq, unicode):\n\u001b[0;32m---> 65\u001b[0m     \u001b[38;5;28;01mraise\u001b[39;00m \u001b[38;5;167;01mTypeError\u001b[39;00m(\u001b[38;5;124m'\u001b[39m\u001b[38;5;124municode strings are not supported, please encode to bytes: \u001b[39m\u001b[38;5;132;01m{!r}\u001b[39;00m\u001b[38;5;124m'\u001b[39m\u001b[38;5;241m.\u001b[39mformat(seq))\n\u001b[1;32m     66\u001b[0m \u001b[38;5;28;01melse\u001b[39;00m:\n\u001b[1;32m     67\u001b[0m     \u001b[38;5;66;03m# handle list of integers and bytes (one or more items) for Python 2 and 3\u001b[39;00m\n\u001b[1;32m     68\u001b[0m     \u001b[38;5;28;01mreturn\u001b[39;00m \u001b[38;5;28mbytes\u001b[39m(\u001b[38;5;28mbytearray\u001b[39m(seq))\n",
      "\u001b[0;31mTypeError\u001b[0m: unicode strings are not supported, please encode to bytes: '422'"
     ]
    }
   ],
   "source": [
    "# 4개의 정류소에 대해 1분마다 정보를 출력하는 함수\n",
    "def main():\n",
    "    arsIds = ['05251']  # 4개의 정류소고유번호\n",
    "    status = 0\n",
    "    while True:\n",
    "        for arsId in arsIds:\n",
    "            getArrivalInfo(arsId)\n",
    "        time.sleep(60)  # 1분 간격으로 API 값을 불러옴\n",
    "\n",
    "if __name__ == \"__main__\":\n",
    "    main()"
   ]
  }
 ],
 "metadata": {
  "kernelspec": {
   "display_name": "base",
   "language": "python",
   "name": "python3"
  },
  "language_info": {
   "codemirror_mode": {
    "name": "ipython",
    "version": 3
   },
   "file_extension": ".py",
   "mimetype": "text/x-python",
   "name": "python",
   "nbconvert_exporter": "python",
   "pygments_lexer": "ipython3",
   "version": "3.11.7"
  }
 },
 "nbformat": 4,
 "nbformat_minor": 2
}
