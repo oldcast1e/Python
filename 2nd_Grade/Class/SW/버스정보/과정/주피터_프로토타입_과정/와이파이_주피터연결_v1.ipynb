{
 "cells": [
  {
   "cell_type": "code",
   "execution_count": 2,
   "metadata": {},
   "outputs": [],
   "source": [
    "import pandas as pd\n",
    "import numpy as np\n",
    "import requests\n",
    "from bs4 import BeautifulSoup\n",
    "import time\n",
    "import serial"
   ]
  },
  {
   "cell_type": "code",
   "execution_count": 3,
   "metadata": {},
   "outputs": [],
   "source": [
    "key = \"nyVvF841UBPdCn%2BvugXzKE1EEwkhTBIhjhaXOQgC%2FAlD2F0YongS3tfgXgIxbW5lmlkuJ6Szjamn18IPVNMpXA%3D%3D\""
   ]
  },
  {
   "cell_type": "code",
   "execution_count": 4,
   "metadata": {},
   "outputs": [],
   "source": [
    "# 아두이노 시리얼 포트와 속도 설정\n",
    "serial_port = \"/dev/tty.usbserial-0001\"\n",
    "baud_rate = 115200\n",
    "\n",
    "# 시리얼 포트 연결\n",
    "ard = serial.Serial(serial_port, baud_rate)"
   ]
  },
  {
   "cell_type": "code",
   "execution_count": 5,
   "metadata": {},
   "outputs": [],
   "source": [
    "def getArrivalInfo(arsId):\n",
    "    # 정류소고유번호(arsId)를 이용하여 해당 정류소의 정보를 가져옴\n",
    "    html = requests.get('http://ws.bus.go.kr/api/rest/stationinfo/getStationByUid?serviceKey='+key+'&arsId='+arsId).text\n",
    "    # 정류소명과 버스도착정보목록을 출력\n",
    "    station_name = root.find('stNm').text\n",
    "    message = f'======= {station_name} =======\\n'\n",
    "    # 정류소에 도착하는 버스 정보를 가져옴\n",
    "    items = root.find_all('itemList')\n",
    "    for item in items:\n",
    "        # 버스번호, 남은시간 등의 정보를 출력\n",
    "        bus_route_id = item.find('busRouteId').text\n",
    "        bus_route_name = item.find('rtNm').text\n",
    "        predict_msg = item.find('arrmsg1').text  # 예상 도착 메시지\n",
    "        if predict_msg == '운행종료':\n",
    "            message += f'{bus_route_name}: Operation ends\\n'\n",
    "        elif predict_msg == '곧 도착':\n",
    "            message += f'{bus_route_name}: Arriving soon\\n'\n",
    "        else:\n",
    "            # 예상 도착 시간과 \"후\"를 분리하여 처리\n",
    "            time, suffix = predict_msg.split('후')\n",
    "            time = time.strip()  # 앞뒤 공백 제거\n",
    "            # \"초\" 문자열이 포함된 경우 \"초\"를 \"sec\"로 변경하여 출력\n",
    "            if '초' in time:\n",
    "                time = time.replace('초', 'sec')\n",
    "            # 예상 도착 시간을 '분'과 '초'로 분리하고 공백을 추가하여 출력\n",
    "            minutes, seconds = time.split('분')\n",
    "            minutes = minutes.strip()  # 앞뒤 공백 제거\n",
    "            message += f'{bus_route_name} : {minutes} MIN {seconds} later\\n'\n",
    "    return message\n"
   ]
  },
  {
   "cell_type": "code",
   "execution_count": 6,
   "metadata": {},
   "outputs": [],
   "source": [
    "def main():\n",
    "    arsIds = ['05251','05140']  # 4개의 정류소고유번호\n",
    "    directions = ['건대방향', '군자방향']  # 출력할 방향들\n",
    "    while True:\n",
    "        for arsId in arsIds:\n",
    "            message = getArrivalInfo(arsId)\n",
    "            # 아두이노 웹 서버에 POST 요청 보내기\n",
    "            # url = 'http://192.168.0.100/'  # 아두이노 웹 서버의 IP 주소\n",
    "            url = 'http://172.20.10.2/'  # 아두이노 웹 서버의 IP 주소\n",
    "            # 172.20.10.2\n",
    "            headers = {'Content-Type': 'text/plain'}\n",
    "            response = requests.post(url, headers=headers, data=message.encode('utf-8'))\n",
    "            print('Response:', response.text)\n",
    "        time.sleep(60)  # 1분 간격으로 API 값을 불러옴"
   ]
  },
  {
   "cell_type": "code",
   "execution_count": 18,
   "metadata": {},
   "outputs": [
    {
     "ename": "KeyboardInterrupt",
     "evalue": "",
     "output_type": "error",
     "traceback": [
      "\u001b[0;31m---------------------------------------------------------------------------\u001b[0m",
      "\u001b[0;31mKeyboardInterrupt\u001b[0m                         Traceback (most recent call last)",
      "Cell \u001b[0;32mIn[18], line 2\u001b[0m\n\u001b[1;32m      1\u001b[0m \u001b[38;5;28;01mif\u001b[39;00m \u001b[38;5;18m__name__\u001b[39m \u001b[38;5;241m==\u001b[39m \u001b[38;5;124m\"\u001b[39m\u001b[38;5;124m__main__\u001b[39m\u001b[38;5;124m\"\u001b[39m:\n\u001b[0;32m----> 2\u001b[0m     main()\n",
      "Cell \u001b[0;32mIn[17], line 7\u001b[0m, in \u001b[0;36mmain\u001b[0;34m()\u001b[0m\n\u001b[1;32m      5\u001b[0m \u001b[38;5;28;01mfor\u001b[39;00m arsId \u001b[38;5;129;01min\u001b[39;00m arsIds:\n\u001b[1;32m      6\u001b[0m     getArrivalInfo(arsId)\n\u001b[0;32m----> 7\u001b[0m time\u001b[38;5;241m.\u001b[39msleep(\u001b[38;5;241m10\u001b[39m)\n",
      "\u001b[0;31mKeyboardInterrupt\u001b[0m: "
     ]
    }
   ],
   "source": [
    "if __name__ == \"__main__\":\n",
    "    main()"
   ]
  }
 ],
 "metadata": {
  "kernelspec": {
   "display_name": "base",
   "language": "python",
   "name": "python3"
  },
  "language_info": {
   "codemirror_mode": {
    "name": "ipython",
    "version": 3
   },
   "file_extension": ".py",
   "mimetype": "text/x-python",
   "name": "python",
   "nbconvert_exporter": "python",
   "pygments_lexer": "ipython3",
   "version": "3.11.7"
  }
 },
 "nbformat": 4,
 "nbformat_minor": 2
}
